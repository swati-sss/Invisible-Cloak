{
 "cells": [
  {
   "cell_type": "code",
   "execution_count": 1,
   "metadata": {},
   "outputs": [
    {
     "name": "stdout",
     "output_type": "stream",
     "text": [
      "4.4.0\n"
     ]
    }
   ],
   "source": [
    "import cv2 \n",
    "import numpy as np \n",
    "import time \n",
    "  \n",
    "# replace the red pixels ( or undesired area ) with \n",
    "# background pixels to generate the invisibility feature. \n",
    "  \n",
    "## 1. Hue: This channel encodes color information. Hue can be \n",
    "# thought of an angle where 0 degree corresponds to the red color,  \n",
    "# 120 degrees corresponds to the green color, and 240 degrees  \n",
    "# corresponds to the blue color. \n",
    "## 2. Saturation: This channel encodes the intensity/purity of color. \n",
    "# For example, pink is less saturated than red. \n",
    "## 3. Value: This channel encodes the brightness of color. \n",
    "# Shading and gloss components of an image appear in this  \n",
    "# channel reading the videocapture video   \n",
    "# in order to check the cv2 version \n",
    "print(cv2.__version__)    \n",
    "  # taking video.mp4 as input. \n",
    "# Make your path according to your needs  \n",
    "capture_video = cv2.VideoCapture(\"C:/Users/INCENDIO/downloads/video.mp4\") \n",
    "     \n",
    "# give the camera to warm up \n",
    "time.sleep(1)  \n",
    "count = 0 \n",
    "background = 0 \n",
    "  \n",
    "# capturing the background in range of 60 \n",
    "# you should have video that have some seconds \n",
    "# dedicated to background frame so that it  \n",
    "# could easily save the background image \n",
    "for i in range(60): \n",
    "    return_val, background = capture_video.read() \n",
    "    if return_val == False : \n",
    "        continue \n",
    "background = np.flip(background, axis = 1) # flipping of the frame  \n",
    "  \n",
    "# we are reading from video  \n",
    "while (capture_video.isOpened()): \n",
    "    return_val, img = capture_video.read() \n",
    "    if not return_val : \n",
    "        break \n",
    "    count = count + 1\n",
    "    img = np.flip(img, axis = 1) \n",
    "  \n",
    "    # convert the image - BGR to HSV \n",
    "    # as we focused on detection of red color  \n",
    "  \n",
    "    # converting BGR to HSV for better  \n",
    "    # detection or you can convert it to gray \n",
    "    hsv = cv2.cvtColor(img, cv2.COLOR_BGR2HSV)  \n",
    "  \n",
    "    #-------------------------------------BLOCK----------------------------# \n",
    "    # ranges should be carefully chosen \n",
    "    # setting the lower and upper range for mask1 \n",
    "    lower_red = np.array([100, 40, 40])        \n",
    "    upper_red = np.array([100, 255, 255]) \n",
    "    mask1 = cv2.inRange(hsv, lower_red, upper_red) \n",
    "    # setting the lower and upper range for mask2  \n",
    "    lower_red = np.array([155, 40, 40]) \n",
    "    upper_red = np.array([180, 255, 255]) \n",
    "    mask2 = cv2.inRange(hsv, lower_red, upper_red) \n",
    "    #----------------------------------------------------------------------# \n",
    "  \n",
    "    # the above block of code could be replaced with \n",
    "    # some other code depending upon the color of your cloth  \n",
    "    mask1 = mask1 + mask2 \n",
    "  \n",
    "    # Refining the mask corresponding to the detected red color \n",
    "    mask1 = cv2.morphologyEx(mask1, cv2.MORPH_OPEN, np.ones((3, 3), \n",
    "                                         np.uint8), iterations = 2) \n",
    "    #cv2.morphologyEx(src, dst,)\n",
    "    mask1 = cv2.dilate(mask1, np.ones((3, 3), np.uint8), iterations = 1) \n",
    "    mask2 = cv2.bitwise_not(mask1) \n",
    "  \n",
    "    # Generating the final output \n",
    "    res1 = cv2.bitwise_and(background, background, mask = mask1) \n",
    "    res2 = cv2.bitwise_and(img, img, mask = mask2) \n",
    "    final_output = cv2.addWeighted(res1, 1, res2, 1, 0) \n",
    "  \n",
    "    cv2.imshow(\"INVISIBLE MAN\", final_output) \n",
    "    k = cv2.waitKey(10) \n",
    "    if k == 27: \n",
    "        break"
   ]
  },
  {
   "cell_type": "code",
   "execution_count": null,
   "metadata": {},
   "outputs": [],
   "source": []
  },
  {
   "cell_type": "code",
   "execution_count": null,
   "metadata": {},
   "outputs": [],
   "source": []
  },
  {
   "cell_type": "code",
   "execution_count": null,
   "metadata": {},
   "outputs": [],
   "source": []
  }
 ],
 "metadata": {
  "kernelspec": {
   "display_name": "Python 3",
   "language": "python",
   "name": "python3"
  },
  "language_info": {
   "codemirror_mode": {
    "name": "ipython",
    "version": 3
   },
   "file_extension": ".py",
   "mimetype": "text/x-python",
   "name": "python",
   "nbconvert_exporter": "python",
   "pygments_lexer": "ipython3",
   "version": "3.8.3"
  }
 },
 "nbformat": 4,
 "nbformat_minor": 4
}
